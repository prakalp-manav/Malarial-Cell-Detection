{
 "cells": [
  {
   "cell_type": "code",
   "execution_count": null,
   "metadata": {},
   "outputs": [],
   "source": []
  },
  {
   "cell_type": "code",
   "execution_count": null,
   "metadata": {},
   "outputs": [],
   "source": []
  },
  {
   "cell_type": "code",
   "execution_count": null,
   "metadata": {},
   "outputs": [],
   "source": []
  },
  {
   "cell_type": "code",
   "execution_count": null,
   "metadata": {},
   "outputs": [],
   "source": []
  },
  {
   "cell_type": "code",
   "execution_count": null,
   "metadata": {},
   "outputs": [],
   "source": []
  },
  {
   "cell_type": "code",
   "execution_count": null,
   "metadata": {},
   "outputs": [],
   "source": []
  },
  {
   "cell_type": "code",
   "execution_count": null,
   "metadata": {},
   "outputs": [],
   "source": []
  },
  {
   "cell_type": "code",
   "execution_count": null,
   "metadata": {},
   "outputs": [],
   "source": []
  },
  {
   "cell_type": "code",
   "execution_count": null,
   "metadata": {},
   "outputs": [],
   "source": []
  },
  {
   "cell_type": "code",
   "execution_count": 1,
   "metadata": {},
   "outputs": [],
   "source": [
    "import pandas as pd\n",
    "import numpy as np\n",
    "import matplotlib.pyplot as plt\n",
    "\n",
    "import os\n",
    "import cv2\n",
    "\n",
    "from PIL import Image\n",
    "import tensorflow.keras.layers as k\n",
    "from tensorflow.keras.utils import load_img\n",
    "from tensorflow.keras.preprocessing.image import ImageDataGenerator\n",
    "\n",
    "from sklearn.model_selection import train_test_split\n",
    "from tensorflow import keras\n",
    "from keras.utils import to_categorical\n",
    "\n",
    "from tqdm import tqdm\n",
    "\n",
    "import warnings\n",
    "warnings.filterwarnings('ignore')"
   ]
  },
  {
   "cell_type": "code",
   "execution_count": 2,
   "metadata": {},
   "outputs": [],
   "source": [
    "from keras.preprocessing.image import ImageDataGenerator\n",
    "from keras.utils import load_img"
   ]
  },
  {
   "cell_type": "code",
   "execution_count": 3,
   "metadata": {},
   "outputs": [
    {
     "data": {
      "image/png": "[encoded data removed]",
      "text/plain": [
       "<PIL.Image.Image image mode=RGB size=60x60>"
      ]
     },
     "execution_count": 3,
     "metadata": {},
     "output_type": "execute_result"
    }
   ],
   "source": [
    "load_img(\"Malarial Cell Image Data/cell_images/Parasitized/C33P1thinF_IMG_20150619_114756a_cell_179.png\",target_size=(60,60))"
   ]
  },
  {
   "cell_type": "code",
   "execution_count": 4,
   "metadata": {},
   "outputs": [],
   "source": [
    "os.environ['KERAS_BACKEND'] = 'tensorflow'"
   ]
  },
  {
   "cell_type": "code",
   "execution_count": 5,
   "metadata": {},
   "outputs": [],
   "source": [
    "np.random.seed(312)"
   ]
  },
  {
   "cell_type": "code",
   "execution_count": 6,
   "metadata": {},
   "outputs": [],
   "source": [
    "image_dir = \"Malarial Cell Image Data/cell_images/\"\n",
    "size = 64\n",
    "dataset = []\n",
    "label = []"
   ]
  },
  {
   "cell_type": "code",
   "execution_count": 7,
   "metadata": {},
   "outputs": [],
   "source": [
    "parasitized_img = os.listdir(image_dir+\"Parasitized/\")\n",
    "for i, img_name in enumerate(parasitized_img):\n",
    "    if(img_name.split('.')[1]=='png'):\n",
    "        image = cv2.imread(image_dir+\"Parasitized/\"+img_name)\n",
    "        image = Image.fromarray(image,'RGB')\n",
    "        image = image.resize((size,size))\n",
    "\n",
    "        dataset.append(np.array(image))\n",
    "        label.append(0)"
   ]
  },
  {
   "cell_type": "code",
   "execution_count": 8,
   "metadata": {},
   "outputs": [],
   "source": [
    "uninfected_img = os.listdir(image_dir+\"Uninfected/\")\n",
    "\n",
    "for i, img_name in enumerate(uninfected_img):\n",
    "    if(img_name.split('.')[1]=='png'):\n",
    "        image = cv2.imread(image_dir+\"Uninfected/\"+img_name)\n",
    "        image = Image.fromarray(image,'RGB')\n",
    "        image = image.resize((size,size))\n",
    "\n",
    "        dataset.append(np.array(image))\n",
    "        label.append(1)"
   ]
  },
  {
   "cell_type": "code",
   "execution_count": 9,
   "metadata": {},
   "outputs": [],
   "source": [
    "from sklearn.model_selection import train_test_split\n",
    "from keras.utils import to_categorical\n",
    "\n",
    "X_train,X_test,Y_train,Y_test = train_test_split(dataset,to_categorical(np.array(label)),test_size=0.3,random_state=0)"
   ]
  },
  {
   "cell_type": "code",
   "execution_count": 10,
   "metadata": {},
   "outputs": [],
   "source": [
    "INP_SIZE = (size,size,3)\n",
    "\n",
    "inp = k.Input(shape=INP_SIZE)\n",
    "\n",
    "conv1 = k.Conv2D(32,kernel_size = (3,3), activation = \"relu\", padding = \"same\")(inp)\n",
    "\n",
    "pool1 = k.MaxPool2D(pool_size=(2,2))(conv1)\n",
    "\n",
    "norm1 = k.BatchNormalization(axis = -1)(pool1)\n",
    "\n",
    "dropout1 = k.Dropout(rate=0.2)(norm1)\n",
    "\n",
    "\n",
    "conv2 = k.Conv2D(32,kernel_size = (3,3), activation = \"relu\", padding = \"same\")(dropout1)\n",
    "\n",
    "pool2 = k.MaxPool2D(pool_size=(2,2))(conv2)\n",
    "\n",
    "norm2 = k.BatchNormalization(axis = -1)(pool2)\n",
    "\n",
    "dropout2 = k.Dropout(rate=0.2)(norm2)\n",
    "\n",
    "\n",
    "flat = k.Flatten()(dropout2)\n",
    "\n",
    "hidden1 = k.Dense(512,activation=\"relu\")(flat)\n",
    "\n",
    "norm3 = k.BatchNormalization(axis=-1)(hidden1)\n",
    "\n",
    "dropout3 = k.Dropout(rate=0.2)(norm3)\n",
    "\n",
    "\n",
    "hidden2 = k.Dense(256,activation=\"relu\")(dropout3)\n",
    "\n",
    "norm4 = k.BatchNormalization(axis=-1)(hidden2)\n",
    "\n",
    "dropout4 = k.Dropout(rate=0.2)(norm4)\n",
    "\n",
    "out = k.Dense(2,activation=\"sigmoid\")(dropout4)"
   ]
  },
  {
   "cell_type": "code",
   "execution_count": 11,
   "metadata": {},
   "outputs": [
    {
     "name": "stdout",
     "output_type": "stream",
     "text": [
      "Model: \"model\"\n",
      "_________________________________________________________________\n",
      " Layer (type)                Output Shape              Param #   \n",
      "=================================================================\n",
      " input_1 (InputLayer)        [(None, 64, 64, 3)]       0         \n",
      "                                                                 \n",
      " conv2d (Conv2D)             (None, 64, 64, 32)        896       \n",
      "                                                                 \n",
      " max_pooling2d (MaxPooling2D  (None, 32, 32, 32)       0         \n",
      " )                                                               \n",
      "                                                                 \n",
      " batch_normalization (BatchN  (None, 32, 32, 32)       128       \n",
      " ormalization)                                                   \n",
      "                                                                 \n",
      " dropout (Dropout)           (None, 32, 32, 32)        0         \n",
      "                                                                 \n",
      " conv2d_1 (Conv2D)           (None, 32, 32, 32)        9248      \n",
      "                                                                 \n",
      " max_pooling2d_1 (MaxPooling  (None, 16, 16, 32)       0         \n",
      " 2D)                                                             \n",
      "                                                                 \n",
      " batch_normalization_1 (Batc  (None, 16, 16, 32)       128       \n",
      " hNormalization)                                                 \n",
      "                                                                 \n",
      " dropout_1 (Dropout)         (None, 16, 16, 32)        0         \n",
      "                                                                 \n",
      " flatten (Flatten)           (None, 8192)              0         \n",
      "                                                                 \n",
      " dense (Dense)               (None, 512)               4194816   \n",
      "                                                                 \n",
      " batch_normalization_2 (Batc  (None, 512)              2048      \n",
      " hNormalization)                                                 \n",
      "                                                                 \n",
      " dropout_2 (Dropout)         (None, 512)               0         \n",
      "                                                                 \n",
      " dense_1 (Dense)             (None, 256)               131328    \n",
      "                                                                 \n",
      " batch_normalization_3 (Batc  (None, 256)              1024      \n",
      " hNormalization)                                                 \n",
      "                                                                 \n",
      " dropout_3 (Dropout)         (None, 256)               0         \n",
      "                                                                 \n",
      " dense_2 (Dense)             (None, 2)                 514       \n",
      "                                                                 \n",
      "=================================================================\n",
      "Total params: 4,340,130\n",
      "Trainable params: 4,338,466\n",
      "Non-trainable params: 1,664\n",
      "_________________________________________________________________\n",
      "None\n"
     ]
    }
   ],
   "source": [
    "model = keras.Model(inputs = inp, outputs = out)\n",
    "model.compile(optimizer='adam',loss = 'categorical_crossentropy',metrics=['accuracy'])\n",
    "\n",
    "print(model.summary())"
   ]
  },
  {
   "cell_type": "code",
   "execution_count": 12,
   "metadata": {},
   "outputs": [
    {
     "name": "stdout",
     "output_type": "stream",
     "text": [
      "Epoch 1/5\n",
      "177/177 [==============================] - 32s 171ms/step - loss: 0.6137 - accuracy: 0.7234 - val_loss: 2.7879 - val_accuracy: 0.2627\n",
      "Epoch 2/5\n",
      "177/177 [==============================] - 32s 179ms/step - loss: 0.3503 - accuracy: 0.8487 - val_loss: 1.0634 - val_accuracy: 0.6210\n",
      "Epoch 3/5\n",
      "177/177 [==============================] - 31s 173ms/step - loss: 0.2483 - accuracy: 0.8977 - val_loss: 0.2641 - val_accuracy: 0.9053\n",
      "Epoch 4/5\n",
      "177/177 [==============================] - 32s 178ms/step - loss: 0.2041 - accuracy: 0.9194 - val_loss: 0.2546 - val_accuracy: 0.9092\n",
      "Epoch 5/5\n",
      "177/177 [==============================] - 32s 181ms/step - loss: 0.1805 - accuracy: 0.9308 - val_loss: 0.2390 - val_accuracy: 0.9084\n"
     ]
    }
   ],
   "source": [
    "history = model.fit(np.array(X_train),Y_train,batch_size = 64,verbose = 1,epochs = 5,validation_split=0.1,shuffle=False)"
   ]
  },
  {
   "cell_type": "code",
   "execution_count": 13,
   "metadata": {},
   "outputs": [
    {
     "name": "stdout",
     "output_type": "stream",
     "text": [
      "169/169 [==============================] - 3s 20ms/step - loss: 0.2395 - accuracy: 0.9022\n"
     ]
    },
    {
     "data": {
      "text/plain": [
       "[0.23953907191753387, 0.9022305011749268]"
      ]
     },
     "execution_count": 13,
     "metadata": {},
     "output_type": "execute_result"
    }
   ],
   "source": [
    "model.evaluate(np.array(X_test),np.array(Y_test))"
   ]
  },
  {
   "cell_type": "code",
   "execution_count": null,
   "metadata": {},
   "outputs": [],
   "source": []
  }
 ],
 "metadata": {
  "kernelspec": {
   "display_name": "Python 3.11.0 64-bit",
   "language": "python",
   "name": "python3"
  },
  "language_info": {
   "codemirror_mode": {
    "name": "ipython",
    "version": 3
   },
   "file_extension": ".py",
   "mimetype": "text/x-python",
   "name": "python",
   "nbconvert_exporter": "python",
   "pygments_lexer": "ipython3",
   "version": "3.11.0"
  },
  "orig_nbformat": 4,
  "vscode": {
   "interpreter": {
    "hash": "379523d68ddbea1caa2d84d2e0b45a67bae01a8b95f4b6debf29773e00031407"
   }
  }
 },
 "nbformat": 4,
 "nbformat_minor": 2
}
